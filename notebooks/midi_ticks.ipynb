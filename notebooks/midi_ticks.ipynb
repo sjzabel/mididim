{
 "metadata": {
  "name": "",
  "signature": "sha256:bd4cd5877fe1f118b1d8478cc8e3f2dd825e12fdcd2b1d7d213a89c9570c118e"
 },
 "nbformat": 3,
 "nbformat_minor": 0,
 "worksheets": [
  {
   "cells": [
    {
     "cell_type": "code",
     "collapsed": false,
     "input": [
      "from rtmidi_python import MidiIn, MidiOut\n",
      "from time import sleep\n",
      "from datetime import datetime"
     ],
     "language": "python",
     "metadata": {},
     "outputs": [],
     "prompt_number": 1
    },
    {
     "cell_type": "code",
     "collapsed": false,
     "input": [
      "class TickKeeper(object):\n",
      "    def __init__(self):\n",
      "        self.midi_in = MidiIn()\n",
      "        self.midi_in.ignore_types(False, False, False)\n",
      "        self.midi_in.callback = self.callback\n",
      "        self.midi_in.open_virtual_port('--input--')\n",
      "        \n",
      "        self.ticks = 0\n",
      "        self.time_key = \"\"\n",
      "        self.seconds =[]\n",
      "        \n",
      "    def callback(self, message, time_stamp):\n",
      "        print message\n",
      "        if message[0] == 248:\n",
      "            now = datetime.now()\n",
      "            if self.time_key == '{now.minute}{now.second}'.format(now=now):\n",
      "                self.ticks += 1\n",
      "            else:\n",
      "                run = (self.time_key, self.ticks)\n",
      "                print '{} - {}'.format(*run)\n",
      "                self.seconds.append(run)\n",
      "                \n",
      "                self.ticks = 1\n",
      "                self.time_key = '{now.minute}{now.second}'.format(now=now)"
     ],
     "language": "python",
     "metadata": {},
     "outputs": [],
     "prompt_number": 2
    },
    {
     "cell_type": "code",
     "collapsed": false,
     "input": [
      "tk = TickKeeper()"
     ],
     "language": "python",
     "metadata": {},
     "outputs": [],
     "prompt_number": 3
    },
    {
     "cell_type": "code",
     "collapsed": false,
     "input": [
      "tk.seconds"
     ],
     "language": "python",
     "metadata": {},
     "outputs": [
      {
       "metadata": {},
       "output_type": "pyout",
       "prompt_number": 5,
       "text": [
        "[('', 0), ('3238', 6), ('3239', 24), ('3240', 24)]"
       ]
      }
     ],
     "prompt_number": 5
    },
    {
     "cell_type": "code",
     "collapsed": false,
     "input": [],
     "language": "python",
     "metadata": {},
     "outputs": [
      {
       "output_type": "stream",
       "stream": "stdout",
       "text": [
        "2826\n"
       ]
      }
     ],
     "prompt_number": 19
    },
    {
     "cell_type": "code",
     "collapsed": false,
     "input": [
      "tk.midi_in.close_port()\n"
     ],
     "language": "python",
     "metadata": {},
     "outputs": [],
     "prompt_number": 22
    },
    {
     "cell_type": "code",
     "collapsed": false,
     "input": [],
     "language": "python",
     "metadata": {},
     "outputs": []
    }
   ],
   "metadata": {}
  }
 ]
}