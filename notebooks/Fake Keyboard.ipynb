{
 "metadata": {
  "name": "",
  "signature": "sha256:c6701876f04a2ac67082b5a0eac5cbfb26ec82d70c0b2d64c5514cb6b5e9423f"
 },
 "nbformat": 3,
 "nbformat_minor": 0,
 "worksheets": [
  {
   "cells": [
    {
     "cell_type": "code",
     "collapsed": false,
     "input": [
      "from rtmidi_python import MidiIn, MidiOut\n",
      "from time import sleep\n",
      "from datetime import datetime"
     ],
     "language": "python",
     "metadata": {},
     "outputs": [],
     "prompt_number": 1
    },
    {
     "cell_type": "code",
     "collapsed": false,
     "input": [
      "midi_out = MidiOut()"
     ],
     "language": "python",
     "metadata": {},
     "outputs": [],
     "prompt_number": 2
    },
    {
     "cell_type": "code",
     "collapsed": false,
     "input": [
      "midi_out.open_virtual_port('Fake Keyboard')"
     ],
     "language": "python",
     "metadata": {},
     "outputs": [],
     "prompt_number": 3
    },
    {
     "cell_type": "code",
     "collapsed": false,
     "input": [
      "midi_out.send_message([0x90, 48, 100]) # Note on\n",
      "midi_out.send_message([0x90, 60, 100]) # Note on\n",
      "midi_out.send_message([0x90, 72, 100]) # Note on\n",
      "midi_out.send_message([0x90, 51, 100]) # Note on\n",
      "midi_out.send_message([0x90, 55, 100]) # Note on"
     ],
     "language": "python",
     "metadata": {},
     "outputs": [],
     "prompt_number": 16
    },
    {
     "cell_type": "code",
     "collapsed": false,
     "input": [
      "midi_out.send_message([0x80, 48, 100]) # Note on\n",
      "midi_out.send_message([0x80, 60, 100]) # Note on\n",
      "midi_out.send_message([0x80, 72, 100]) # Note on\n",
      "midi_out.send_message([0x80, 51, 100]) # Note on\n",
      "midi_out.send_message([0x80, 55, 100]) # Note on"
     ],
     "language": "python",
     "metadata": {},
     "outputs": [],
     "prompt_number": 17
    },
    {
     "cell_type": "code",
     "collapsed": false,
     "input": [
      "_64th = 20"
     ],
     "language": "python",
     "metadata": {},
     "outputs": [],
     "prompt_number": 18
    },
    {
     "cell_type": "code",
     "collapsed": false,
     "input": [],
     "language": "python",
     "metadata": {},
     "outputs": []
    }
   ],
   "metadata": {}
  }
 ]
}