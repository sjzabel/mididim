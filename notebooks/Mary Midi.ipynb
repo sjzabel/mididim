{
 "metadata": {
  "name": "",
  "signature": "sha256:62da37e230a2ac0bb8bace39ba944b27fffef538295d0bc0c8f601b9655513b8"
 },
 "nbformat": 3,
 "nbformat_minor": 0,
 "worksheets": [
  {
   "cells": [
    {
     "cell_type": "code",
     "collapsed": false,
     "input": [
      "import midi"
     ],
     "language": "python",
     "metadata": {},
     "outputs": [],
     "prompt_number": 1
    },
    {
     "cell_type": "code",
     "collapsed": false,
     "input": [
      "midi.BEATNAMES"
     ],
     "language": "python",
     "metadata": {},
     "outputs": [
      {
       "metadata": {},
       "output_type": "pyout",
       "prompt_number": 2,
       "text": [
        "['whole',\n",
        " 'half',\n",
        " 'quarter',\n",
        " 'eighth',\n",
        " 'sixteenth',\n",
        " 'thiry-second',\n",
        " 'sixty-fourth']"
       ]
      }
     ],
     "prompt_number": 2
    },
    {
     "cell_type": "code",
     "collapsed": false,
     "input": [
      "midi.BEATVALUES"
     ],
     "language": "python",
     "metadata": {},
     "outputs": [
      {
       "metadata": {},
       "output_type": "pyout",
       "prompt_number": 3,
       "text": [
        "[4, 2, 1, 0.5, 0.25, 0.125, 0.0625]"
       ]
      }
     ],
     "prompt_number": 3
    },
    {
     "cell_type": "code",
     "collapsed": false,
     "input": [
      "mary_mid = midi.Pattern(format=1, resolution=220, tracks=\\\n",
      "  [\n",
      "    midi.Track([\n",
      "      midi.TimeSignatureEvent(tick=0, data=[4, 2, 24, 8]),\n",
      "      midi.KeySignatureEvent(tick=0, data=[0, 0]),\n",
      "      midi.EndOfTrackEvent(tick=1, data=[])\n",
      "    ]),\n",
      "    midi.Track([\n",
      "      midi.ControlChangeEvent(tick=0, channel=0, data=[91, 58]),\n",
      "      midi.ControlChangeEvent(tick=0, channel=0, data=[10, 69]),\n",
      "      midi.ControlChangeEvent(tick=0, channel=0, data=[0, 0]),\n",
      "      midi.ControlChangeEvent(tick=0, channel=0, data=[32, 0]),\n",
      "      midi.ProgramChangeEvent(tick=0, channel=0, data=[24]),\n",
      "      midi.NoteOnEvent(tick=0, channel=0, data=[64, 72]),\n",
      "      midi.NoteOnEvent(tick=0, channel=0, data=[55, 70]),\n",
      "      midi.NoteOnEvent(tick=220, channel=0, data=[64, 0]),\n",
      "      midi.NoteOnEvent(tick=110, channel=0, data=[55, 0]),\n",
      "      midi.EndOfTrackEvent(tick=1, data=[])\n",
      "   ])\n",
      "])"
     ],
     "language": "python",
     "metadata": {},
     "outputs": [],
     "prompt_number": 11
    },
    {
     "cell_type": "code",
     "collapsed": false,
     "input": [
      "midi.write_midifile(\"example.mid\", mary_mid)"
     ],
     "language": "python",
     "metadata": {},
     "outputs": [],
     "prompt_number": 12
    },
    {
     "cell_type": "code",
     "collapsed": false,
     "input": [
      "mary_mid"
     ],
     "language": "python",
     "metadata": {},
     "outputs": [
      {
       "metadata": {},
       "output_type": "pyout",
       "prompt_number": 6,
       "text": [
        "midi.Pattern(format=1, resolution=220, tracks=\\\n",
        "[midi.Track(\\\n",
        "  [midi.TimeSignatureEvent(tick=0, data=[4, 2, 24, 8]),\n",
        "   midi.KeySignatureEvent(tick=0, data=[0, 0]),\n",
        "   midi.EndOfTrackEvent(tick=1, data=[])]),\n",
        " midi.Track(\\\n",
        "  [midi.ControlChangeEvent(tick=0, channel=0, data=[91, 58]),\n",
        "   midi.ControlChangeEvent(tick=0, channel=0, data=[10, 69]),\n",
        "   midi.ControlChangeEvent(tick=0, channel=0, data=[0, 0]),\n",
        "   midi.ControlChangeEvent(tick=0, channel=0, data=[32, 0]),\n",
        "   midi.ProgramChangeEvent(tick=0, channel=0, data=[24]),\n",
        "   midi.NoteOnEvent(tick=0, channel=0, data=[64, 72]),\n",
        "   midi.NoteOnEvent(tick=0, channel=0, data=[55, 70]),\n",
        "   midi.NoteOnEvent(tick=231, channel=0, data=[64, 0]),\n",
        "   midi.NoteOnEvent(tick=25, channel=0, data=[62, 72])])])"
       ]
      }
     ],
     "prompt_number": 6
    },
    {
     "cell_type": "code",
     "collapsed": false,
     "input": [],
     "language": "python",
     "metadata": {},
     "outputs": []
    }
   ],
   "metadata": {}
  }
 ]
}