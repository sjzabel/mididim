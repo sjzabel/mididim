{
 "metadata": {
  "name": "",
  "signature": "sha256:fab65795c871f3f138a504537f10ef48760566deb302507fdb5db079b313d619"
 },
 "nbformat": 3,
 "nbformat_minor": 0,
 "worksheets": [
  {
   "cells": [
    {
     "cell_type": "code",
     "collapsed": false,
     "input": [
      "from mididim.pattern import get_default_44_pattern\n",
      "from mididim import chord\n",
      "from mididim.pitch import pitch2n as pitch\n",
      "from mididim.track import Track\n",
      "from mididim.rhythm import *\n",
      "import midi"
     ],
     "language": "python",
     "metadata": {},
     "outputs": [],
     "prompt_number": 1
    },
    {
     "cell_type": "code",
     "collapsed": false,
     "input": [
      "ptrn = get_default_44_pattern()\n",
      "test = midi.TrackNameEvent(name=)"
     ],
     "language": "python",
     "metadata": {},
     "outputs": [
      {
       "metadata": {},
       "output_type": "pyout",
       "prompt_number": 2,
       "text": [
        "midi.Pattern(format=1, resolution=192, tracks=\\\n",
        "[[midi.TrackNameEvent(tick=0, text='Default 4/4 Pattern', data=[]),\n",
        "  midi.TimeSignatureEvent(tick=0, data=[4, 2, 24, 8]),\n",
        "  midi.SetTempoEvent(tick=0, data=[7, 161, 32]),\n",
        "  midi.EndOfTrackEvent(tick=0, data=[])]])"
       ]
      }
     ],
     "prompt_number": 2
    },
    {
     "cell_type": "code",
     "collapsed": false,
     "input": [
      "C = chord.Major(pitch.C_2)\n",
      "track1 = Track(data='First Chord')\n",
      "track1 += QuarterNote(C)\n",
      "track1 += QuarterNote(C)\n",
      "track1 += QuarterNote(C)\n",
      "track1 += QuarterNote(C)\n",
      "track1"
     ],
     "language": "python",
     "metadata": {},
     "outputs": [
      {
       "ename": "TypeError",
       "evalue": "__init__() got an unexpected keyword argument 'data'",
       "output_type": "pyerr",
       "traceback": [
        "\u001b[0;31m---------------------------------------------------------------------------\u001b[0m\n\u001b[0;31mTypeError\u001b[0m                                 Traceback (most recent call last)",
        "\u001b[0;32m<ipython-input-3-4a28bebf096d>\u001b[0m in \u001b[0;36m<module>\u001b[0;34m()\u001b[0m\n\u001b[1;32m      1\u001b[0m \u001b[0mC\u001b[0m \u001b[0;34m=\u001b[0m \u001b[0mchord\u001b[0m\u001b[0;34m.\u001b[0m\u001b[0mMajor\u001b[0m\u001b[0;34m(\u001b[0m\u001b[0mpitch\u001b[0m\u001b[0;34m.\u001b[0m\u001b[0mC_2\u001b[0m\u001b[0;34m)\u001b[0m\u001b[0;34m\u001b[0m\u001b[0m\n\u001b[0;32m----> 2\u001b[0;31m \u001b[0mtrack1\u001b[0m \u001b[0;34m=\u001b[0m \u001b[0mTrack\u001b[0m\u001b[0;34m(\u001b[0m\u001b[0mdata\u001b[0m\u001b[0;34m=\u001b[0m\u001b[0;34m'First Chord'\u001b[0m\u001b[0;34m)\u001b[0m\u001b[0;34m\u001b[0m\u001b[0m\n\u001b[0m\u001b[1;32m      3\u001b[0m \u001b[0mtrack1\u001b[0m \u001b[0;34m+=\u001b[0m \u001b[0mQuarterNote\u001b[0m\u001b[0;34m(\u001b[0m\u001b[0mC\u001b[0m\u001b[0;34m)\u001b[0m\u001b[0;34m\u001b[0m\u001b[0m\n\u001b[1;32m      4\u001b[0m \u001b[0mtrack1\u001b[0m \u001b[0;34m+=\u001b[0m \u001b[0mQuarterNote\u001b[0m\u001b[0;34m(\u001b[0m\u001b[0mC\u001b[0m\u001b[0;34m)\u001b[0m\u001b[0;34m\u001b[0m\u001b[0m\n\u001b[1;32m      5\u001b[0m \u001b[0mtrack1\u001b[0m \u001b[0;34m+=\u001b[0m \u001b[0mQuarterNote\u001b[0m\u001b[0;34m(\u001b[0m\u001b[0mC\u001b[0m\u001b[0;34m)\u001b[0m\u001b[0;34m\u001b[0m\u001b[0m\n",
        "\u001b[0;31mTypeError\u001b[0m: __init__() got an unexpected keyword argument 'data'"
       ]
      }
     ],
     "prompt_number": 3
    },
    {
     "cell_type": "code",
     "collapsed": false,
     "input": [
      "track1.make_ticks_abs()\n",
      "track1"
     ],
     "language": "python",
     "metadata": {},
     "outputs": [
      {
       "metadata": {},
       "output_type": "pyout",
       "prompt_number": 7,
       "text": [
        "midi.Track(\\\n",
        "  [midi.TrackNameEvent(tick=0, text='First Chord', data=[]),\n",
        "   midi.NoteOnEvent(tick=0, channel=0, data=[48, 100]),\n",
        "   midi.NoteOnEvent(tick=0, channel=0, data=[52, 100]),\n",
        "   midi.NoteOnEvent(tick=0, channel=0, data=[55, 100]),\n",
        "   midi.NoteOffEvent(tick=192, channel=0, data=[48, 0]),\n",
        "   midi.NoteOffEvent(tick=192, channel=0, data=[52, 0]),\n",
        "   midi.NoteOffEvent(tick=192, channel=0, data=[55, 0]),\n",
        "   midi.NoteOnEvent(tick=192, channel=0, data=[48, 100]),\n",
        "   midi.NoteOnEvent(tick=192, channel=0, data=[52, 100]),\n",
        "   midi.NoteOnEvent(tick=192, channel=0, data=[55, 100]),\n",
        "   midi.NoteOffEvent(tick=384, channel=0, data=[48, 0]),\n",
        "   midi.NoteOffEvent(tick=384, channel=0, data=[52, 0]),\n",
        "   midi.NoteOffEvent(tick=384, channel=0, data=[55, 0]),\n",
        "   midi.NoteOnEvent(tick=384, channel=0, data=[48, 100]),\n",
        "   midi.NoteOnEvent(tick=384, channel=0, data=[52, 100]),\n",
        "   midi.NoteOnEvent(tick=384, channel=0, data=[55, 100]),\n",
        "   midi.NoteOffEvent(tick=576, channel=0, data=[48, 0]),\n",
        "   midi.NoteOffEvent(tick=576, channel=0, data=[52, 0]),\n",
        "   midi.NoteOffEvent(tick=576, channel=0, data=[55, 0]),\n",
        "   midi.NoteOnEvent(tick=576, channel=0, data=[48, 100]),\n",
        "   midi.NoteOnEvent(tick=576, channel=0, data=[52, 100]),\n",
        "   midi.NoteOnEvent(tick=576, channel=0, data=[55, 100]),\n",
        "   midi.NoteOffEvent(tick=768, channel=0, data=[48, 0]),\n",
        "   midi.NoteOffEvent(tick=768, channel=0, data=[52, 0]),\n",
        "   midi.NoteOffEvent(tick=768, channel=0, data=[55, 0]),\n",
        "   midi.EndOfTrackEvent(tick=768, data=[])])"
       ]
      }
     ],
     "prompt_number": 7
    },
    {
     "cell_type": "code",
     "collapsed": false,
     "input": [
      "192 + (192 / 2.0) + (192 / 4.0) + (192 / 8.0) + (192 / 16.0) + (192 / 32.0) + (192 / 64.0)"
     ],
     "language": "python",
     "metadata": {},
     "outputs": [
      {
       "metadata": {},
       "output_type": "pyout",
       "prompt_number": 15,
       "text": [
        "381.0"
       ]
      }
     ],
     "prompt_number": 15
    },
    {
     "cell_type": "code",
     "collapsed": false,
     "input": [
      "ptrn.append(track1)\n",
      "ptrn"
     ],
     "language": "python",
     "metadata": {},
     "outputs": [
      {
       "metadata": {},
       "output_type": "pyout",
       "prompt_number": 4,
       "text": [
        "midi.Pattern(format=1, resolution=192, tracks=\\\n",
        "[[midi.TrackNameEvent(tick=0, text='Default 4/4 Pattern', data=[]),\n",
        "  midi.TimeSignatureEvent(tick=0, data=[4, 2, 24, 8]),\n",
        "  midi.SetTempoEvent(tick=0, data=[7, 161, 32]),\n",
        "  midi.EndOfTrackEvent(tick=0, data=[])],\n",
        " midi.Track(\\\n",
        "  [midi.TrackNameEvent(tick=0, text='First Chord', data=[]),\n",
        "   midi.NoteOnEvent(tick=0, channel=0, data=[48, 100]),\n",
        "   midi.NoteOnEvent(tick=0, channel=0, data=[52, 100]),\n",
        "   midi.NoteOnEvent(tick=0, channel=0, data=[55, 100]),\n",
        "   midi.NoteOffEvent(tick=192, channel=0, data=[48, 0]),\n",
        "   midi.NoteOffEvent(tick=0, channel=0, data=[52, 0]),\n",
        "   midi.NoteOffEvent(tick=0, channel=0, data=[55, 0]),\n",
        "   midi.NoteOnEvent(tick=0, channel=0, data=[48, 100]),\n",
        "   midi.NoteOnEvent(tick=0, channel=0, data=[52, 100]),\n",
        "   midi.NoteOnEvent(tick=0, channel=0, data=[55, 100]),\n",
        "   midi.NoteOffEvent(tick=192, channel=0, data=[48, 0]),\n",
        "   midi.NoteOffEvent(tick=0, channel=0, data=[52, 0]),\n",
        "   midi.NoteOffEvent(tick=0, channel=0, data=[55, 0]),\n",
        "   midi.NoteOnEvent(tick=0, channel=0, data=[48, 100]),\n",
        "   midi.NoteOnEvent(tick=0, channel=0, data=[52, 100]),\n",
        "   midi.NoteOnEvent(tick=0, channel=0, data=[55, 100]),\n",
        "   midi.NoteOffEvent(tick=192, channel=0, data=[48, 0]),\n",
        "   midi.NoteOffEvent(tick=0, channel=0, data=[52, 0]),\n",
        "   midi.NoteOffEvent(tick=0, channel=0, data=[55, 0]),\n",
        "   midi.NoteOnEvent(tick=0, channel=0, data=[48, 100]),\n",
        "   midi.NoteOnEvent(tick=0, channel=0, data=[52, 100]),\n",
        "   midi.NoteOnEvent(tick=0, channel=0, data=[55, 100]),\n",
        "   midi.NoteOffEvent(tick=192, channel=0, data=[48, 0]),\n",
        "   midi.NoteOffEvent(tick=0, channel=0, data=[52, 0]),\n",
        "   midi.NoteOffEvent(tick=0, channel=0, data=[55, 0]),\n",
        "   midi.EndOfTrackEvent(tick=0, data=[])])])"
       ]
      }
     ],
     "prompt_number": 4
    },
    {
     "cell_type": "code",
     "collapsed": false,
     "input": [
      "midi.write_midifile(\"easy_chord.mid\", ptrn)"
     ],
     "language": "python",
     "metadata": {},
     "outputs": [],
     "prompt_number": 5
    },
    {
     "cell_type": "code",
     "collapsed": false,
     "input": [],
     "language": "python",
     "metadata": {},
     "outputs": [],
     "prompt_number": 5
    },
    {
     "cell_type": "code",
     "collapsed": false,
     "input": [],
     "language": "python",
     "metadata": {},
     "outputs": []
    }
   ],
   "metadata": {}
  }
 ]
}