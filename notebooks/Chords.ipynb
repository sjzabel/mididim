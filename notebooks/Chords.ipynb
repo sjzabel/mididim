{
 "metadata": {
  "name": "",
  "signature": "sha256:ba525a7562602974db713311028c592bd30d99f7d783dfbba1d9dcb860c9e66e"
 },
 "nbformat": 3,
 "nbformat_minor": 0,
 "worksheets": [
  {
   "cells": [
    {
     "cell_type": "code",
     "collapsed": false,
     "input": [
      "from mididim.pattern import get_default_44_pattern\n",
      "from mididim import chord\n",
      "from mididim.pitch import pitch2n as pitch\n",
      "from mididim.track import Track\n",
      "from mididim.rhythm import *\n",
      "import midi"
     ],
     "language": "python",
     "metadata": {},
     "outputs": [],
     "prompt_number": 1
    },
    {
     "cell_type": "code",
     "collapsed": false,
     "input": [
      "ptrn = get_default_44_pattern()"
     ],
     "language": "python",
     "metadata": {},
     "outputs": [],
     "prompt_number": 2
    },
    {
     "cell_type": "code",
     "collapsed": false,
     "input": [
      "C = chord.Major(pitch.C_2)\n",
      "track1 = Track(name='First Chord')\n",
      "track1 += QuarterNote(C)\n",
      "track1 += QuarterNote(C)\n",
      "track1 += QuarterNote(C)\n",
      "track1 += QuarterNote(C)\n",
      "track1 += WholeNote(C)\n",
      "track1"
     ],
     "language": "python",
     "metadata": {},
     "outputs": [
      {
       "metadata": {},
       "output_type": "pyout",
       "prompt_number": 10,
       "text": [
        "midi.Track(\\\n",
        "  [midi.TrackNameEvent(tick=0, text='First Chord', data=[]),\n",
        "   midi.NoteOnEvent(tick=0, channel=0, data=[48, 100]),\n",
        "   midi.NoteOnEvent(tick=0, channel=0, data=[52, 100]),\n",
        "   midi.NoteOnEvent(tick=0, channel=0, data=[55, 100]),\n",
        "   midi.NoteOffEvent(tick=7776, channel=0, data=[48, 0]),\n",
        "   midi.NoteOffEvent(tick=0, channel=0, data=[52, 0]),\n",
        "   midi.NoteOffEvent(tick=0, channel=0, data=[55, 0]),\n",
        "   midi.NoteOnEvent(tick=0, channel=0, data=[48, 100]),\n",
        "   midi.NoteOnEvent(tick=0, channel=0, data=[52, 100]),\n",
        "   midi.NoteOnEvent(tick=0, channel=0, data=[55, 100]),\n",
        "   midi.NoteOffEvent(tick=7776, channel=0, data=[48, 0]),\n",
        "   midi.NoteOffEvent(tick=0, channel=0, data=[52, 0]),\n",
        "   midi.NoteOffEvent(tick=0, channel=0, data=[55, 0]),\n",
        "   midi.NoteOnEvent(tick=0, channel=0, data=[48, 100]),\n",
        "   midi.NoteOnEvent(tick=0, channel=0, data=[52, 100]),\n",
        "   midi.NoteOnEvent(tick=0, channel=0, data=[55, 100]),\n",
        "   midi.NoteOffEvent(tick=7776, channel=0, data=[48, 0]),\n",
        "   midi.NoteOffEvent(tick=0, channel=0, data=[52, 0]),\n",
        "   midi.NoteOffEvent(tick=0, channel=0, data=[55, 0]),\n",
        "   midi.NoteOnEvent(tick=0, channel=0, data=[48, 100]),\n",
        "   midi.NoteOnEvent(tick=0, channel=0, data=[52, 100]),\n",
        "   midi.NoteOnEvent(tick=0, channel=0, data=[55, 100]),\n",
        "   midi.NoteOffEvent(tick=7776, channel=0, data=[48, 0]),\n",
        "   midi.NoteOffEvent(tick=0, channel=0, data=[52, 0]),\n",
        "   midi.NoteOffEvent(tick=0, channel=0, data=[55, 0]),\n",
        "   midi.NoteOnEvent(tick=0, channel=0, data=[48, 100]),\n",
        "   midi.NoteOnEvent(tick=0, channel=0, data=[52, 100]),\n",
        "   midi.NoteOnEvent(tick=0, channel=0, data=[55, 100]),\n",
        "   midi.NoteOffEvent(tick=31104, channel=0, data=[48, 0]),\n",
        "   midi.NoteOffEvent(tick=0, channel=0, data=[52, 0]),\n",
        "   midi.NoteOffEvent(tick=0, channel=0, data=[55, 0]),\n",
        "   midi.EndOfTrackEvent(tick=0, data=[])])"
       ]
      }
     ],
     "prompt_number": 10
    },
    {
     "cell_type": "code",
     "collapsed": false,
     "input": [
      "C = chord.Major(pitch.C_2)\n",
      "track1 = Track(name='First Chord')\n",
      "track1 += QuarterNote(C).dot().dot().dot()\n",
      "track1"
     ],
     "language": "python",
     "metadata": {},
     "outputs": [
      {
       "output_type": "stream",
       "stream": "stdout",
       "text": [
        "dot: 0\n",
        "dot: 1\n",
        "dot: 2\n",
        "__iter__\n"
       ]
      },
      {
       "metadata": {},
       "output_type": "pyout",
       "prompt_number": 3,
       "text": [
        "midi.Track(\\\n",
        "  [midi.TrackNameEvent(tick=0, text='First Chord', data=[]),\n",
        "   midi.NoteOnEvent(tick=0, channel=0, data=[48, 100]),\n",
        "   midi.NoteOnEvent(tick=0, channel=0, data=[52, 100]),\n",
        "   midi.NoteOnEvent(tick=0, channel=0, data=[55, 100]),\n",
        "   midi.NoteOffEvent(tick=192.0, channel=0, data=[48, 0]),\n",
        "   midi.NoteOffEvent(tick=0, channel=0, data=[52, 0]),\n",
        "   midi.NoteOffEvent(tick=0, channel=0, data=[55, 0]),\n",
        "   midi.EndOfTrackEvent(tick=0, data=[])])"
       ]
      }
     ],
     "prompt_number": 3
    },
    {
     "cell_type": "code",
     "collapsed": false,
     "input": [
      "ptrn.append(track1)\n",
      "ptrn"
     ],
     "language": "python",
     "metadata": {},
     "outputs": [
      {
       "metadata": {},
       "output_type": "pyout",
       "prompt_number": 11,
       "text": [
        "midi.Pattern(format=1, resolution=7776, tracks=\\\n",
        "[[midi.TrackNameEvent(tick=0, text='Default 4/4 Pattern', data=[]),\n",
        "  midi.TimeSignatureEvent(tick=0, data=[4, 2, 24, 8]),\n",
        "  midi.SetTempoEvent(tick=0, data=[7, 161, 32]),\n",
        "  midi.EndOfTrackEvent(tick=0, data=[])],\n",
        " midi.Track(\\\n",
        "  [midi.TrackNameEvent(tick=0, text='First Chord', data=[]),\n",
        "   midi.NoteOnEvent(tick=0, channel=0, data=[48, 100]),\n",
        "   midi.NoteOnEvent(tick=0, channel=0, data=[52, 100]),\n",
        "   midi.NoteOnEvent(tick=0, channel=0, data=[55, 100]),\n",
        "   midi.NoteOffEvent(tick=7776, channel=0, data=[48, 0]),\n",
        "   midi.NoteOffEvent(tick=0, channel=0, data=[52, 0]),\n",
        "   midi.NoteOffEvent(tick=0, channel=0, data=[55, 0]),\n",
        "   midi.NoteOnEvent(tick=0, channel=0, data=[48, 100]),\n",
        "   midi.NoteOnEvent(tick=0, channel=0, data=[52, 100]),\n",
        "   midi.NoteOnEvent(tick=0, channel=0, data=[55, 100]),\n",
        "   midi.NoteOffEvent(tick=7776, channel=0, data=[48, 0]),\n",
        "   midi.NoteOffEvent(tick=0, channel=0, data=[52, 0]),\n",
        "   midi.NoteOffEvent(tick=0, channel=0, data=[55, 0]),\n",
        "   midi.NoteOnEvent(tick=0, channel=0, data=[48, 100]),\n",
        "   midi.NoteOnEvent(tick=0, channel=0, data=[52, 100]),\n",
        "   midi.NoteOnEvent(tick=0, channel=0, data=[55, 100]),\n",
        "   midi.NoteOffEvent(tick=7776, channel=0, data=[48, 0]),\n",
        "   midi.NoteOffEvent(tick=0, channel=0, data=[52, 0]),\n",
        "   midi.NoteOffEvent(tick=0, channel=0, data=[55, 0]),\n",
        "   midi.NoteOnEvent(tick=0, channel=0, data=[48, 100]),\n",
        "   midi.NoteOnEvent(tick=0, channel=0, data=[52, 100]),\n",
        "   midi.NoteOnEvent(tick=0, channel=0, data=[55, 100]),\n",
        "   midi.NoteOffEvent(tick=7776, channel=0, data=[48, 0]),\n",
        "   midi.NoteOffEvent(tick=0, channel=0, data=[52, 0]),\n",
        "   midi.NoteOffEvent(tick=0, channel=0, data=[55, 0]),\n",
        "   midi.NoteOnEvent(tick=0, channel=0, data=[48, 100]),\n",
        "   midi.NoteOnEvent(tick=0, channel=0, data=[52, 100]),\n",
        "   midi.NoteOnEvent(tick=0, channel=0, data=[55, 100]),\n",
        "   midi.NoteOffEvent(tick=31104, channel=0, data=[48, 0]),\n",
        "   midi.NoteOffEvent(tick=0, channel=0, data=[52, 0]),\n",
        "   midi.NoteOffEvent(tick=0, channel=0, data=[55, 0]),\n",
        "   midi.EndOfTrackEvent(tick=0, data=[])])])"
       ]
      }
     ],
     "prompt_number": 11
    },
    {
     "cell_type": "code",
     "collapsed": false,
     "input": [
      "midi.write_midifile(\"easy_chord.mid\", ptrn)"
     ],
     "language": "python",
     "metadata": {},
     "outputs": [],
     "prompt_number": 12
    },
    {
     "cell_type": "code",
     "collapsed": false,
     "input": [
      "for i in xrange(1,6):\n",
      "    print '-'*60\n",
      "    print ((2**6)*3)\n",
      "    print ((2 ** i)*3)\n",
      "    print ((2 ** 6) * 3) / ((2 ** i) * 3)\n",
      "    print ((2 ** 6) * 3) / (2 ** i)"
     ],
     "language": "python",
     "metadata": {},
     "outputs": [
      {
       "output_type": "stream",
       "stream": "stdout",
       "text": [
        "------------------------------------------------------------\n",
        "192\n",
        "6\n",
        "32\n",
        "96\n",
        "------------------------------------------------------------\n",
        "192\n",
        "12\n",
        "16\n",
        "48\n",
        "------------------------------------------------------------\n",
        "192\n",
        "24\n",
        "8\n",
        "24\n",
        "------------------------------------------------------------\n",
        "192\n",
        "48\n",
        "4\n",
        "12\n",
        "------------------------------------------------------------\n",
        "192\n",
        "96\n",
        "2\n",
        "6\n"
       ]
      }
     ],
     "prompt_number": 16
    },
    {
     "cell_type": "code",
     "collapsed": false,
     "input": [],
     "language": "python",
     "metadata": {},
     "outputs": []
    }
   ],
   "metadata": {}
  }
 ]
}